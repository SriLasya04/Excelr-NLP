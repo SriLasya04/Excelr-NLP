{
  "nbformat": 4,
  "nbformat_minor": 0,
  "metadata": {
    "colab": {
      "provenance": [],
      "authorship_tag": "ABX9TyN/DNgnSuVsbnn338PPhCxA",
      "include_colab_link": true
    },
    "kernelspec": {
      "name": "python3",
      "display_name": "Python 3"
    },
    "language_info": {
      "name": "python"
    }
  },
  "cells": [
    {
      "cell_type": "markdown",
      "metadata": {
        "id": "view-in-github",
        "colab_type": "text"
      },
      "source": [
        "<a href=\"https://colab.research.google.com/github/SriLasya04/Excelr-NLP/blob/main/Gemini_ai_pdf_health_report.ipynb\" target=\"_parent\"><img src=\"https://colab.research.google.com/assets/colab-badge.svg\" alt=\"Open In Colab\"/></a>"
      ]
    },
    {
      "cell_type": "code",
      "execution_count": null,
      "metadata": {
        "id": "N8CvYbG7gIGJ"
      },
      "outputs": [],
      "source": [
        "import google.generativeai as genai\n",
        "from google.colab import userdata\n",
        "\n",
        "GOOGLE_API_KEY=userdata.get('GOOGLE_API_Key')\n",
        "genai.configure(api_key=GOOGLE_API_KEY)"
      ]
    },
    {
      "cell_type": "code",
      "source": [
        "pip install PyPDF2"
      ],
      "metadata": {
        "colab": {
          "base_uri": "https://localhost:8080/"
        },
        "id": "G5aC5hjNgl25",
        "outputId": "3810dc56-d11a-4518-a560-d3ccf6199f2b"
      },
      "execution_count": null,
      "outputs": [
        {
          "output_type": "stream",
          "name": "stdout",
          "text": [
            "Collecting PyPDF2\n",
            "  Downloading pypdf2-3.0.1-py3-none-any.whl.metadata (6.8 kB)\n",
            "Downloading pypdf2-3.0.1-py3-none-any.whl (232 kB)\n",
            "\u001b[?25l   \u001b[90m━━━━━━━━━━━━━━━━━━━━━━━━━━━━━━━━━━━━━━━━\u001b[0m \u001b[32m0.0/232.6 kB\u001b[0m \u001b[31m?\u001b[0m eta \u001b[36m-:--:--\u001b[0m\r\u001b[2K   \u001b[91m━━━━━━━━━━━━\u001b[0m\u001b[90m╺\u001b[0m\u001b[90m━━━━━━━━━━━━━━━━━━━━━━━━━━━\u001b[0m \u001b[32m71.7/232.6 kB\u001b[0m \u001b[31m2.3 MB/s\u001b[0m eta \u001b[36m0:00:01\u001b[0m\r\u001b[2K   \u001b[90m━━━━━━━━━━━━━━━━━━━━━━━━━━━━━━━━━━━━━━━━\u001b[0m \u001b[32m232.6/232.6 kB\u001b[0m \u001b[31m3.5 MB/s\u001b[0m eta \u001b[36m0:00:00\u001b[0m\n",
            "\u001b[?25hInstalling collected packages: PyPDF2\n",
            "Successfully installed PyPDF2-3.0.1\n"
          ]
        }
      ]
    },
    {
      "cell_type": "code",
      "source": [
        "import PyPDF2\n",
        "\n",
        "def extract_text_from_pdf(pdf_path):\n",
        "  \"\"\"Extracts text from a given health report PDF using PyPDF2\"\"\"\n",
        "  text=\"\"\n",
        "  with open (pdf_path, \"rb\") as file:\n",
        "    reader = PyPDF2.PdfReader(file)\n",
        "    for page in reader.pages:\n",
        "      text += page.extract_text() + \"\\n\"\n",
        "\n",
        "  return text"
      ],
      "metadata": {
        "id": "L2G8yh6bg45A"
      },
      "execution_count": null,
      "outputs": []
    },
    {
      "cell_type": "code",
      "source": [
        "def extract_health_insights(text):\n",
        "  \"\"\" ASks Gemini AI to extract key medical insights feom the report.\"\"\"\n",
        "  model = genai.GenerativeModel(\"gemini-1.5-flash\")\n",
        "  prompt = f\"Extract key insights from the following health report:\\n\\n{text}\"\n",
        "  response = model.generate_content(prompt)\n",
        "  return response.text\n",
        "\n",
        "\n",
        "pdf_file = \"/content/health_report.pdf\"\n",
        "extracted_text = extract_text_from_pdf(pdf_file)\n",
        "insights = extract_health_insights(extracted_text)\n",
        "print(\"Key Insights:\\n\", insights)"
      ],
      "metadata": {
        "colab": {
          "base_uri": "https://localhost:8080/",
          "height": 453
        },
        "id": "mC9grX5eh2Rs",
        "outputId": "fe23a997-f08f-4909-fb42-2d0a00ac7b75"
      },
      "execution_count": null,
      "outputs": [
        {
          "output_type": "stream",
          "name": "stdout",
          "text": [
            "Key Insights:\n",
            " The health report for Mr. Kishan Goud (MR2100003157) reveals the following key insights:\n",
            "\n",
            "**Infectious Diseases:**\n",
            "\n",
            "* **Negative for Dengue:**  Tests for Dengue NS1 antigen, IgG, and IgM were all negative.\n",
            "* **Negative for Malaria:** Rapid Malaria tests for Plasmodium vivax (P.V) and Plasmodium falciparum (P.F) were negative.\n",
            "* **Elevated Widal Test:**  While the reference range is 1:20,  the Widal test showed elevated titers for *Salmonella Typhi* \"O\" (1:160) and \"H\" (1:80). This suggests a possible past or present infection with *Salmonella Typhi* (typhoid fever).  The titers for *Salmonella Paratyphi* \"A\" and \"B\" were within the normal range.  The significance of these elevated titers needs further clinical evaluation by a physician to confirm the diagnosis.\n",
            "\n",
            "\n",
            "**Blood Work:**\n",
            "\n",
            "* **Elevated Erythrocyte Sedimentation Rate (ESR):**  The ESR (26 mm/hr in the first hour and 52 mm/hr in the second) is significantly elevated above the reference range (0-8 mm/hr). This indicates inflammation or infection in the body.\n",
            "* **Complete Blood Picture (CBC):**  Most CBC parameters are within the normal range, including hemoglobin, red blood cell count, white blood cell count, platelet count, and PCV. Differential counts also show neutrophils, lymphocytes, monocytes, eosinophils, and basophils within or near normal ranges.\n",
            "* **Normal HbA1c:** The HbA1c level (5.4%) falls within the normal non-diabetic range (4-6%), indicating good blood glucose control.\n",
            "* **Normal Serum Creatinine:**  Serum creatinine (0.8 mg/dl) is within the normal range (0.6-1.25 mg/dl), suggesting normal kidney function.\n",
            "* **Normal Random Blood Glucose:** Random blood glucose is within the normal range.\n",
            "* **Normal Liver Function Tests:** Liver function tests (liver enzymes, bilirubin, total protein, albumin, globulin) are all within normal ranges.\n",
            "* **Slightly Low Serum Sodium:** Serum sodium (122 mmol/l) is slightly below the normal range (135-146 mmol/l). The significance of this needs clinical correlation by a doctor.  Other electrolytes (potassium and chloride) were within normal limits.\n",
            "\n",
            "**Overall:**\n",
            "\n",
            "The most concerning finding is the elevated Widal test suggesting possible typhoid. The elevated ESR supports the presence of an infection or inflammatory process.  The slightly low sodium level also requires attention.  Further clinical assessment and potentially additional investigations are necessary to fully determine the cause of the elevated ESR and to confirm the possible typhoid diagnosis based on the Widal test.  The patient's age and other symptoms should be considered in the physician's evaluation.\n",
            "\n"
          ]
        }
      ]
    },
    {
      "cell_type": "code",
      "source": [
        "def summarize_health_report(text):\n",
        "  \"\"\"Summarize the health report using Gemini AI.\"\"\"\n",
        "  model = genai.GenerativeModel(\"gemini-1.5-flash\")\n",
        "  prompt = f\"Summarize the following health report in a conscise manner:\\n\\n{text}\"\n",
        "  response = model.generate_content(prompt)\n",
        "  return response.text\n",
        "\n",
        "summary = summarize_health_report(extracted_text)\n",
        "print(\"summary:\\n\", summary)"
      ],
      "metadata": {
        "colab": {
          "base_uri": "https://localhost:8080/",
          "height": 315
        },
        "id": "IbX2tN-_kiis",
        "outputId": "6fdc0bee-3fb6-4dc5-c453-ce3c4268ebf6"
      },
      "execution_count": null,
      "outputs": [
        {
          "output_type": "stream",
          "name": "stdout",
          "text": [
            "summary:\n",
            " Mr. Kishan Goud's (MRN: MR2100003157) blood tests on 01/02/2021 showed:\n",
            "\n",
            "* **Widal Test:** Elevated titers for *Salmonella Typhi* O (1:160) and H (1:80), suggesting possible typhoid.  *Salmonella Paratyphi* AH and BH were within normal range.\n",
            "* **Dengue Serology:** Negative for NS1 antigen, IgG, and IgM.\n",
            "* **ESR:** Elevated (26 mm/hr in 1st hour, 52 mm/hr in 2nd hour), indicating inflammation.\n",
            "* **Malaria:** Negative for *Plasmodium vivax* and *Plasmodium falciparum*.\n",
            "* **Complete Blood Count (CBC):**  All values within normal limits except slightly low platelet count (2.0 lakhs/cumm).\n",
            "* **HbA1c:** 5.4%, within the normal non-diabetic range.\n",
            "* **Serum Creatinine:** 0.8 mg/dl (within normal range).\n",
            "* **Random Blood Glucose:**  Not reported in the provided text.\n",
            "* **Liver Function Tests (LFTs):** All values within normal ranges.\n",
            "* **Serum Electrolytes:** Slightly low sodium (122 mmol/l), potassium and chloride within normal range.\n",
            "\n",
            "Overall, the results suggest possible typhoid infection and inflammation, but further investigation may be needed.  The slightly low sodium level also warrants attention.\n",
            "\n"
          ]
        }
      ]
    },
    {
      "cell_type": "code",
      "source": [
        "def defect_abnormalities(text):\n",
        "  \"\"\"Analyzes lab test results and flags abnormal values.\"\"\"\n",
        "  model = genai.GenerativeModel(\"gemini-1.5-flash\")\n",
        "  prompt = f\"Analysis the lab test results in the following health report and highlight any abnormal_values:\\n\\n{text}\"\n",
        "  response = model.generate_content(prompt)\n",
        "  return response.text\n",
        "\n",
        "  abnormalities = detect_abnormalities(extracted_text)\n",
        "  print(\"Potential Abnormalities:\\n\", abnormalities)"
      ],
      "metadata": {
        "id": "plyJXbBinAAC"
      },
      "execution_count": null,
      "outputs": []
    },
    {
      "cell_type": "code",
      "source": [
        "def explain_medical_terms(text):\n",
        "    \"\"\"Asks Gemini AI to simplify medical terms for patient understanding.\"\"\"\n",
        "    model = genai.GenerativeModel(\"gemini-1.5-flash\")\n",
        "    prompt = f\"Translate the medical terms in the following health report into simple language:\\n\\n{text}\"\n",
        "    response = model.generate_content(prompt)\n",
        "    return response.text\n",
        "\n",
        "explanation = explain_medical_terms(extracted_text)\n",
        "print(\"Simplified Explanation:\\n\", explanation)"
      ],
      "metadata": {
        "colab": {
          "base_uri": "https://localhost:8080/",
          "height": 1000
        },
        "id": "jHolzUYbo8FG",
        "outputId": "be3c7a1f-d2c5-4209-d9a6-1778ad5b2375"
      },
      "execution_count": null,
      "outputs": [
        {
          "output_type": "stream",
          "name": "stdout",
          "text": [
            "Simplified Explanation:\n",
            " This report shows the results of several blood tests performed on Mr. Kishan Goud on February 1st, 2021.  Here's a simplified explanation:\n",
            "\n",
            "\n",
            "**Part 1:  Widal Test (for Typhoid Fever)**\n",
            "\n",
            "This test checks for antibodies to typhoid bacteria.  The results show:\n",
            "\n",
            "* **S. Typhi \"O\" 1:160:**  A slightly elevated level of antibodies suggesting *possible* past or present typhoid infection.  However, this alone isn't conclusive.\n",
            "* **S. Typhi \"H\" 1:80:** A slightly elevated level of antibodies suggesting *possible* past or present typhoid infection.\n",
            "* **S. Paratyphi \"AH\" 1:20:**  Within the normal range; no evidence of this type of typhoid.\n",
            "* **S. Paratyphi \"BH\" 1:20:** Within the normal range; no evidence of this type of typhoid.\n",
            "\n",
            "\n",
            "**Part 2: Dengue Serology (for Dengue Fever)**\n",
            "\n",
            "Tests for dengue antibodies were all negative, meaning no current or recent dengue infection was detected.\n",
            "\n",
            "\n",
            "**Part 3: Erythrocyte Sedimentation Rate (ESR)**\n",
            "\n",
            "This measures how quickly red blood cells settle in a test tube.  A higher rate can suggest inflammation in the body.\n",
            "\n",
            "* **ESR 1st Hour 26 mm/hr:**  Elevated (normal is 0-8). This indicates inflammation.\n",
            "* **ESR 2nd Hour 52 mm/hr:**  Further elevated, supporting the finding of inflammation.\n",
            "\n",
            "\n",
            "**Part 4: Rapid Malaria Test**\n",
            "\n",
            "Both tests for malaria parasites (Plasmodium vivax and Plasmodium falciparum) were negative.\n",
            "\n",
            "\n",
            "**Part 5: Complete Blood Picture (CBC)**\n",
            "\n",
            "This provides a detailed look at the components of the blood.  The results mostly fall within normal ranges:\n",
            "\n",
            "* **Hemoglobin (Hb):** 13.6 gms% (Normal) - Measures the oxygen-carrying capacity of red blood cells.\n",
            "* **Red Blood Cells (RBC):** 4.3 mill/cumm (Slightly low, but possibly within normal variation)\n",
            "* **White Blood Cells (WBC):** 7,200 cells/cumm (Normal) – These fight infection.\n",
            "* **Platelets:** 2.0 lakhs/cumm (Normal) – These help with blood clotting.\n",
            "* **Packed Cell Volume (PCV):** 40.5 % (Normal) – The percentage of red blood cells in the blood.\n",
            "* **Differential Count:** The proportions of different types of white blood cells are mostly within the normal range.\n",
            "* **Peripheral Blood Smear:** Red and white blood cell appearance is normal; platelets are adequate.\n",
            "\n",
            "\n",
            "**Part 6: HbA1c (for Diabetes)**\n",
            "\n",
            "This measures average blood sugar levels over the past 2-3 months. The result indicates good blood sugar control.\n",
            "\n",
            "\n",
            "**Part 7: Serum Creatinine (Kidney Function)**\n",
            "\n",
            "This tests kidney function; the result is within the normal range.\n",
            "\n",
            "\n",
            "**Part 8: Random Blood Glucose (Blood Sugar)**\n",
            "\n",
            "This measures blood sugar at a single point in time; the result is within the normal range.\n",
            "\n",
            "\n",
            "**Part 9: Liver Function Test (LFT)**\n",
            "\n",
            "These tests assess liver health.  All results are within the normal range except bilirubin, which shows slightly higher values than the lower limits of the normal range.  This is usually not a problem in isolation, but might require further investigation if other symptoms exist.\n",
            "\n",
            "\n",
            "**Part 10: Serum Electrolytes**\n",
            "\n",
            "These tests measure the levels of essential minerals in the blood. Sodium is slightly lower than normal range.  Potassium and Chloride are in normal range.\n",
            "\n",
            "\n",
            "**In summary:**  The most notable findings are the elevated ESR (suggesting inflammation), the slightly elevated Widal test (suggesting *possible* past or present typhoid infection), and slightly low red blood cell count, and low sodium levels.  The doctor will need to consider these results in conjunction with Mr. Goud's symptoms and medical history to determine a diagnosis and treatment plan.  Further investigation may be warranted based on this report.\n",
            "\n"
          ]
        }
      ]
    },
    {
      "cell_type": "code",
      "source": [
        "def ask_gemini_about_report(text, question):\n",
        "    \"\"\"Allows users to ask questions about their health report.\"\"\"\n",
        "    model = genai.GenerativeModel(\"gemini-1.5-flash\")\n",
        "    prompt = f\"The following is a health report:\\n\\n{text}\\n\\nAnswer the following question based on the report:\\n{question}\"\n",
        "    response = model.generate_content(prompt)\n",
        "    return response.text\n",
        "\n",
        "question = \"What is the patient's diagnosis?\"\n",
        "answer = ask_gemini_about_report(extracted_text, question)\n",
        "print(\"Answer:\\n\", answer)"
      ],
      "metadata": {
        "colab": {
          "base_uri": "https://localhost:8080/",
          "height": 89
        },
        "id": "DpgpaHskqvOj",
        "outputId": "39bb01dd-548b-4a71-b599-f431a892de9a"
      },
      "execution_count": null,
      "outputs": [
        {
          "output_type": "stream",
          "name": "stdout",
          "text": [
            "Answer:\n",
            " The provided lab report does not offer a diagnosis.  It only presents the results of various tests.  Elevated ESR (erythrocyte sedimentation rate) might suggest inflammation, but this is not a diagnosis in itself.  The slightly elevated S. Typhi \"O\" antibody titer (1:160) is above the reference range, but it's inconclusive without clinical context and further testing.  A definitive diagnosis requires clinical evaluation by the physician considering these results along with the patient's symptoms and medical history.\n",
            "\n"
          ]
        }
      ]
    },
    {
      "cell_type": "code",
      "source": [],
      "metadata": {
        "id": "7aaEnojWrX0C"
      },
      "execution_count": null,
      "outputs": []
    }
  ]
}